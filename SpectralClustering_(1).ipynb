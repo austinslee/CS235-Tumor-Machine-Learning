{
  "cells": [
    {
      "cell_type": "markdown",
      "metadata": {
        "id": "view-in-github",
        "colab_type": "text"
      },
      "source": [
        "<a href=\"https://colab.research.google.com/github/austinslee/CS235-Tumor-Machine-Learning/blob/main/SpectralClustering_(1).ipynb\" target=\"_parent\"><img src=\"https://colab.research.google.com/assets/colab-badge.svg\" alt=\"Open In Colab\"/></a>"
      ]
    },
    {
      "cell_type": "markdown",
      "id": "15abfba7-beb0-428e-8fb8-133e3cc4508a",
      "metadata": {
        "id": "15abfba7-beb0-428e-8fb8-133e3cc4508a"
      },
      "source": [
        "# Spectral Clustering Jupyter Notebook"
      ]
    },
    {
      "cell_type": "markdown",
      "id": "98cb7e24",
      "metadata": {
        "id": "98cb7e24"
      },
      "source": [
        "## References\n",
        "https://people.orie.cornell.edu/dpw/orie6334/Fall2016/lecture7.pdf\n",
        "https://www.analyticsvidhya.com/blog/2021/11/understanding-k-means-clustering-in-machine-learningwith-examples/"
      ]
    },
    {
      "cell_type": "markdown",
      "id": "1948bfe4",
      "metadata": {
        "id": "1948bfe4"
      },
      "source": [
        "## Libraries\n",
        "These are the libraries necessary for my implementation of spectral clustering"
      ]
    },
    {
      "cell_type": "code",
      "execution_count": null,
      "id": "c6865faf",
      "metadata": {
        "id": "c6865faf"
      },
      "outputs": [],
      "source": [
        "import matplotlib.pyplot as plt\n",
        "from sklearn.metrics import silhouette_score\n",
        "from sklearn.metrics import normalized_mutual_info_score\n",
        "import numpy as np\n",
        "import pandas as pd\n",
        "import random\n",
        "import math"
      ]
    },
    {
      "cell_type": "markdown",
      "id": "35dea292",
      "metadata": {
        "id": "35dea292"
      },
      "source": [
        "## Dataset Selection\n",
        "There are two sections of commented code. The first section is the code necessary to load and preprocess data.csv which is the Breast Cancer Wisconsin Diagnostic Dataset. The second section is the code necessary to load and preprocess implementation_correctness_dataset.csv which is the dataset given to us for implementation correctness by the professor. For the purpose of the rest of this notebook, I will be showing the results of the implementation_correctness_dataset.csv as data.csv is too large to realistically output matrices/graphs. Output below the code is matrix of the dataset"
      ]
    },
    {
      "cell_type": "code",
      "execution_count": null,
      "id": "b161a2d9",
      "metadata": {
        "id": "b161a2d9",
        "outputId": "854b34d0-3e3f-488d-bf06-483a474f22c1"
      },
      "outputs": [
        {
          "name": "stdout",
          "output_type": "stream",
          "text": [
            "[[0.02       0.        ]\n",
            " [1.045      0.        ]\n",
            " [2.08       0.        ]\n",
            " [3.125      0.        ]\n",
            " [4.18       0.        ]\n",
            " [5.245      0.        ]\n",
            " [6.32       0.        ]\n",
            " [7.405      0.        ]\n",
            " [8.5        0.        ]\n",
            " [9.605      0.        ]\n",
            " [0.         1.005     ]\n",
            " [0.         2.04287094]\n",
            " [0.         3.15067663]\n",
            " [0.         4.36758347]\n",
            " [3.         1.62946271]\n",
            " [3.         2.26894388]\n",
            " [3.         2.92310397]]\n"
          ]
        }
      ],
      "source": [
        "\"\"\"\n",
        "#Uncomment to use data.csv. Column id, Unnamed, and diagnosis are dropped from the dataset.\n",
        "df = pd.read_csv(\"../data.csv\")\n",
        "df['diagnosis'].replace(['M','B'],[1,0], inplace=True)\n",
        "groundtruth = df[['diagnosis']].to_numpy()\n",
        "groundtruth = groundtruth.flatten()\n",
        "remove_cols = [col for col in df.columns if 'Unnamed' in col]\n",
        "remove_cols_test = [col for col in df.columns if 'diagnosis' in col]\n",
        "remove_cols_id = [col for col in df.columns if 'id' in col]\n",
        "df.drop(remove_cols, axis='columns', inplace=True)\n",
        "df.drop(remove_cols_test, axis='columns', inplace=True)\n",
        "df.drop(remove_cols_id, axis='columns', inplace=True)\n",
        "\n",
        "anp = df.to_numpy()\n",
        "n_Dim = anp.shape[0]\n",
        "\"\"\"\n",
        "#\"\"\"\n",
        "#Uncomment to use implementation_correctness_dataset.csv. Column Class/Cluster is dropped from the dataset\n",
        "df = pd.read_csv(\"../implementation_correctness_dataset.csv\")\n",
        "groundtruth = df[['Class/Cluster']].to_numpy()\n",
        "groundtruth = groundtruth.flatten()\n",
        "remove_cols_id = [col for col in df.columns if 'Class/Cluster' in col]\n",
        "df.drop(remove_cols_id, axis='columns', inplace=True)\n",
        "\n",
        "anp = df.to_numpy()\n",
        "n_Dim = anp.shape[0]\n",
        "\n",
        "#prints dataset\n",
        "print(anp)\n",
        "#\"\"\"\n"
      ]
    },
    {
      "cell_type": "markdown",
      "id": "41eb738e",
      "metadata": {
        "id": "41eb738e"
      },
      "source": [
        "## Graph Construction\n",
        "The code below utilizes the function euclidean_distance to calculate the X nearest neighbors of each datapoint and creates an edge between them. In this case, I chose the value 2 as specified by the implementation correctness guidelines. This creates an undirected unweighted similarity graph."
      ]
    },
    {
      "cell_type": "code",
      "execution_count": null,
      "id": "40289733",
      "metadata": {
        "id": "40289733"
      },
      "outputs": [],
      "source": [
        "#function finds euclidean distance between two matrices\n",
        "def euclidean_distance(row1, row2):\n",
        "    distance = 0.0\n",
        "    for i in range(len(row1)):\n",
        "        distance += (row1[i] - row2[i])**2\n",
        "    return math.sqrt(distance)\n",
        "\n",
        "\n",
        "#finds the X closest neighbors of each datapoint\n",
        "#modify totSortArr.append(sortArr[:X]) where X is the X-1 nearest neighbors you wish to find.\n",
        "sortArr = []\n",
        "totSortArr = []\n",
        "for row in anp:\n",
        "    for count,row0 in enumerate(anp):\n",
        "        dist = euclidean_distance(row, row0)\n",
        "        sortArr.append((dist, count))\n",
        "    sortArr.sort()\n",
        "    totSortArr.append(sortArr[:3])\n",
        "    sortArr.clear()"
      ]
    },
    {
      "cell_type": "markdown",
      "id": "ce249d54",
      "metadata": {
        "id": "ce249d54"
      },
      "source": [
        "## Adjacency, Degree, Unnormalized Laplacian, Normalized Laplacian\n",
        "The code section shown below creates an adjacency matrix from the unweighted undirected similarity graph. The degree matrix is then created from the adjacency matrix. The unnormalized Laplacian is then calculated along with the normalized Laplacian"
      ]
    },
    {
      "cell_type": "code",
      "execution_count": null,
      "id": "c881fbbb",
      "metadata": {
        "id": "c881fbbb",
        "outputId": "16d22b62-354b-4686-8f4d-cf3c03629f52"
      },
      "outputs": [
        {
          "name": "stdout",
          "output_type": "stream",
          "text": [
            "Adjacency Matrix:\n",
            "[[0. 1. 0. 0. 0. 0. 0. 0. 0. 0. 1. 0. 0. 0. 0. 0. 0.]\n",
            " [1. 0. 1. 0. 0. 0. 0. 0. 0. 0. 0. 0. 0. 0. 0. 0. 0.]\n",
            " [0. 1. 0. 1. 0. 0. 0. 0. 0. 0. 0. 0. 0. 0. 0. 0. 0.]\n",
            " [0. 0. 1. 0. 1. 0. 0. 0. 0. 0. 0. 0. 0. 0. 0. 0. 0.]\n",
            " [0. 0. 0. 1. 0. 1. 0. 0. 0. 0. 0. 0. 0. 0. 0. 0. 0.]\n",
            " [0. 0. 0. 0. 1. 0. 1. 0. 0. 0. 0. 0. 0. 0. 0. 0. 0.]\n",
            " [0. 0. 0. 0. 0. 1. 0. 1. 0. 0. 0. 0. 0. 0. 0. 0. 0.]\n",
            " [0. 0. 0. 0. 0. 0. 1. 0. 1. 1. 0. 0. 0. 0. 0. 0. 0.]\n",
            " [0. 0. 0. 0. 0. 0. 0. 1. 0. 1. 0. 0. 0. 0. 0. 0. 0.]\n",
            " [0. 0. 0. 0. 0. 0. 0. 1. 1. 0. 0. 0. 0. 0. 0. 0. 0.]\n",
            " [1. 0. 0. 0. 0. 0. 0. 0. 0. 0. 0. 1. 0. 0. 0. 0. 0.]\n",
            " [0. 0. 0. 0. 0. 0. 0. 0. 0. 0. 1. 0. 1. 1. 0. 0. 0.]\n",
            " [0. 0. 0. 0. 0. 0. 0. 0. 0. 0. 0. 1. 0. 1. 0. 0. 0.]\n",
            " [0. 0. 0. 0. 0. 0. 0. 0. 0. 0. 0. 1. 1. 0. 0. 0. 0.]\n",
            " [0. 0. 0. 0. 0. 0. 0. 0. 0. 0. 0. 0. 0. 0. 0. 1. 1.]\n",
            " [0. 0. 0. 0. 0. 0. 0. 0. 0. 0. 0. 0. 0. 0. 1. 0. 1.]\n",
            " [0. 0. 0. 0. 0. 0. 0. 0. 0. 0. 0. 0. 0. 0. 1. 1. 0.]]\n",
            "Degree Matrix:\n",
            "[[2. 0. 0. 0. 0. 0. 0. 0. 0. 0. 0. 0. 0. 0. 0. 0. 0.]\n",
            " [0. 2. 0. 0. 0. 0. 0. 0. 0. 0. 0. 0. 0. 0. 0. 0. 0.]\n",
            " [0. 0. 2. 0. 0. 0. 0. 0. 0. 0. 0. 0. 0. 0. 0. 0. 0.]\n",
            " [0. 0. 0. 2. 0. 0. 0. 0. 0. 0. 0. 0. 0. 0. 0. 0. 0.]\n",
            " [0. 0. 0. 0. 2. 0. 0. 0. 0. 0. 0. 0. 0. 0. 0. 0. 0.]\n",
            " [0. 0. 0. 0. 0. 2. 0. 0. 0. 0. 0. 0. 0. 0. 0. 0. 0.]\n",
            " [0. 0. 0. 0. 0. 0. 2. 0. 0. 0. 0. 0. 0. 0. 0. 0. 0.]\n",
            " [0. 0. 0. 0. 0. 0. 0. 3. 0. 0. 0. 0. 0. 0. 0. 0. 0.]\n",
            " [0. 0. 0. 0. 0. 0. 0. 0. 2. 0. 0. 0. 0. 0. 0. 0. 0.]\n",
            " [0. 0. 0. 0. 0. 0. 0. 0. 0. 2. 0. 0. 0. 0. 0. 0. 0.]\n",
            " [0. 0. 0. 0. 0. 0. 0. 0. 0. 0. 2. 0. 0. 0. 0. 0. 0.]\n",
            " [0. 0. 0. 0. 0. 0. 0. 0. 0. 0. 0. 3. 0. 0. 0. 0. 0.]\n",
            " [0. 0. 0. 0. 0. 0. 0. 0. 0. 0. 0. 0. 2. 0. 0. 0. 0.]\n",
            " [0. 0. 0. 0. 0. 0. 0. 0. 0. 0. 0. 0. 0. 2. 0. 0. 0.]\n",
            " [0. 0. 0. 0. 0. 0. 0. 0. 0. 0. 0. 0. 0. 0. 2. 0. 0.]\n",
            " [0. 0. 0. 0. 0. 0. 0. 0. 0. 0. 0. 0. 0. 0. 0. 2. 0.]\n",
            " [0. 0. 0. 0. 0. 0. 0. 0. 0. 0. 0. 0. 0. 0. 0. 0. 2.]]\n",
            "Unnormalized Laplacian\n",
            "[[ 2. -1.  0.  0.  0.  0.  0.  0.  0.  0. -1.  0.  0.  0.  0.  0.  0.]\n",
            " [-1.  2. -1.  0.  0.  0.  0.  0.  0.  0.  0.  0.  0.  0.  0.  0.  0.]\n",
            " [ 0. -1.  2. -1.  0.  0.  0.  0.  0.  0.  0.  0.  0.  0.  0.  0.  0.]\n",
            " [ 0.  0. -1.  2. -1.  0.  0.  0.  0.  0.  0.  0.  0.  0.  0.  0.  0.]\n",
            " [ 0.  0.  0. -1.  2. -1.  0.  0.  0.  0.  0.  0.  0.  0.  0.  0.  0.]\n",
            " [ 0.  0.  0.  0. -1.  2. -1.  0.  0.  0.  0.  0.  0.  0.  0.  0.  0.]\n",
            " [ 0.  0.  0.  0.  0. -1.  2. -1.  0.  0.  0.  0.  0.  0.  0.  0.  0.]\n",
            " [ 0.  0.  0.  0.  0.  0. -1.  3. -1. -1.  0.  0.  0.  0.  0.  0.  0.]\n",
            " [ 0.  0.  0.  0.  0.  0.  0. -1.  2. -1.  0.  0.  0.  0.  0.  0.  0.]\n",
            " [ 0.  0.  0.  0.  0.  0.  0. -1. -1.  2.  0.  0.  0.  0.  0.  0.  0.]\n",
            " [-1.  0.  0.  0.  0.  0.  0.  0.  0.  0.  2. -1.  0.  0.  0.  0.  0.]\n",
            " [ 0.  0.  0.  0.  0.  0.  0.  0.  0.  0. -1.  3. -1. -1.  0.  0.  0.]\n",
            " [ 0.  0.  0.  0.  0.  0.  0.  0.  0.  0.  0. -1.  2. -1.  0.  0.  0.]\n",
            " [ 0.  0.  0.  0.  0.  0.  0.  0.  0.  0.  0. -1. -1.  2.  0.  0.  0.]\n",
            " [ 0.  0.  0.  0.  0.  0.  0.  0.  0.  0.  0.  0.  0.  0.  2. -1. -1.]\n",
            " [ 0.  0.  0.  0.  0.  0.  0.  0.  0.  0.  0.  0.  0.  0. -1.  2. -1.]\n",
            " [ 0.  0.  0.  0.  0.  0.  0.  0.  0.  0.  0.  0.  0.  0. -1. -1.  2.]]\n",
            "Normalized Laplacian\n",
            "[[ 1.         -0.5         0.          0.          0.          0.\n",
            "   0.          0.          0.          0.         -0.5         0.\n",
            "   0.          0.          0.          0.          0.        ]\n",
            " [-0.5         1.         -0.5         0.          0.          0.\n",
            "   0.          0.          0.          0.          0.          0.\n",
            "   0.          0.          0.          0.          0.        ]\n",
            " [ 0.         -0.5         1.         -0.5         0.          0.\n",
            "   0.          0.          0.          0.          0.          0.\n",
            "   0.          0.          0.          0.          0.        ]\n",
            " [ 0.          0.         -0.5         1.         -0.5         0.\n",
            "   0.          0.          0.          0.          0.          0.\n",
            "   0.          0.          0.          0.          0.        ]\n",
            " [ 0.          0.          0.         -0.5         1.         -0.5\n",
            "   0.          0.          0.          0.          0.          0.\n",
            "   0.          0.          0.          0.          0.        ]\n",
            " [ 0.          0.          0.          0.         -0.5         1.\n",
            "  -0.5         0.          0.          0.          0.          0.\n",
            "   0.          0.          0.          0.          0.        ]\n",
            " [ 0.          0.          0.          0.          0.         -0.5\n",
            "   1.         -0.40824829  0.          0.          0.          0.\n",
            "   0.          0.          0.          0.          0.        ]\n",
            " [ 0.          0.          0.          0.          0.          0.\n",
            "  -0.40824829  1.         -0.40824829 -0.40824829  0.          0.\n",
            "   0.          0.          0.          0.          0.        ]\n",
            " [ 0.          0.          0.          0.          0.          0.\n",
            "   0.         -0.40824829  1.         -0.5         0.          0.\n",
            "   0.          0.          0.          0.          0.        ]\n",
            " [ 0.          0.          0.          0.          0.          0.\n",
            "   0.         -0.40824829 -0.5         1.          0.          0.\n",
            "   0.          0.          0.          0.          0.        ]\n",
            " [-0.5         0.          0.          0.          0.          0.\n",
            "   0.          0.          0.          0.          1.         -0.40824829\n",
            "   0.          0.          0.          0.          0.        ]\n",
            " [ 0.          0.          0.          0.          0.          0.\n",
            "   0.          0.          0.          0.         -0.40824829  1.\n",
            "  -0.40824829 -0.40824829  0.          0.          0.        ]\n",
            " [ 0.          0.          0.          0.          0.          0.\n",
            "   0.          0.          0.          0.          0.         -0.40824829\n",
            "   1.         -0.5         0.          0.          0.        ]\n",
            " [ 0.          0.          0.          0.          0.          0.\n",
            "   0.          0.          0.          0.          0.         -0.40824829\n",
            "  -0.5         1.          0.          0.          0.        ]\n",
            " [ 0.          0.          0.          0.          0.          0.\n",
            "   0.          0.          0.          0.          0.          0.\n",
            "   0.          0.          1.         -0.5        -0.5       ]\n",
            " [ 0.          0.          0.          0.          0.          0.\n",
            "   0.          0.          0.          0.          0.          0.\n",
            "   0.          0.         -0.5         1.         -0.5       ]\n",
            " [ 0.          0.          0.          0.          0.          0.\n",
            "   0.          0.          0.          0.          0.          0.\n",
            "   0.          0.         -0.5        -0.5         1.        ]]\n"
          ]
        }
      ],
      "source": [
        "#Referenced https://people.orie.cornell.edu/dpw/orie6334/Fall2016/lecture7.pdf\n",
        "#for step by step process of implementing Spectral Clustering\n",
        "\n",
        "#Create from scratch the adjacency matrix of the unweighted undirected similarity graph where node i and node j are connected with an edge if\n",
        "#datapoint i is among the 2 nearest neighbors of datapoint j,\n",
        "#    OR\n",
        "#datapoint j is among the 2 nearest neighbors of datapoint i\n",
        "#kneighbors variable is our adjacency matrix\n",
        "counter = 0\n",
        "kneighbors = np.zeros((anp.shape[0],anp.shape[0]))\n",
        "for count0, entry in enumerate(totSortArr):\n",
        "    kneighbors[count0][entry[1][1]] = 1\n",
        "    kneighbors[count0][entry[2][1]] = 1\n",
        "    kneighbors[entry[1][1]][count0] = 1\n",
        "    kneighbors[entry[2][1]][count0] = 1\n",
        "\n",
        "print(\"Adjacency Matrix:\")\n",
        "print(kneighbors)\n",
        "\n",
        "\n",
        "#calculate our degree matrix\n",
        "DegreeMatrix = np.diag(kneighbors.sum(axis=1))\n",
        "\n",
        "print(\"Degree Matrix:\")\n",
        "print(DegreeMatrix)\n",
        "\n",
        "#calculate unnormalized Laplacian\n",
        "L = DegreeMatrix - kneighbors\n",
        "\n",
        "print(\"Unnormalized Laplacian\")\n",
        "print(L)\n",
        "\n",
        "#calculate D^(-1/2). Needed form Normalized Laplacian\n",
        "NormDegreeMatrix = np.copy(DegreeMatrix)\n",
        "for i in range(0,n_Dim):\n",
        "    NormDegreeMatrix[i,i] = 1 / math.sqrt(NormDegreeMatrix[i,i])\n",
        "\n",
        "#calculate normalized Laplacian with formula NormL = D^(-1/2) * L * D^(-1/2)\n",
        "NormL = np.matmul(NormDegreeMatrix,L)\n",
        "NormL = np.matmul(NormL,NormDegreeMatrix)\n",
        "\n",
        "print(\"Normalized Laplacian\")\n",
        "print(NormL)"
      ]
    },
    {
      "cell_type": "markdown",
      "id": "62e9db3d",
      "metadata": {
        "id": "62e9db3d"
      },
      "source": [
        "## Spectral Embeddings\n",
        "The code section below utilizes the numpy library to perform eigenvalue decomposition on my normalized Laplacian. After recieving my eigenvalues and eigenvectors, as specified in the implementation correctness instructions, I take the two lowest non-zero eigenvalues and corresponding eigenvectors to create my spectral embeddings."
      ]
    },
    {
      "cell_type": "code",
      "execution_count": null,
      "id": "89648da2",
      "metadata": {
        "id": "89648da2",
        "outputId": "3de666a3-4fdd-4d63-a32b-b9f881c52b8b"
      },
      "outputs": [
        {
          "name": "stdout",
          "output_type": "stream",
          "text": [
            "eigenvalues:\n",
            "[-4.16333634e-17  2.34693761e-02  1.07429742e-01  2.68455254e-01\n",
            "  5.00000000e-01  7.75321940e-01  1.05578705e+00  1.95622281e+00\n",
            "  1.83678321e+00  1.30174197e+00  1.67478865e+00  1.50000000e+00\n",
            "  1.50000000e+00  1.50000000e+00  1.50000000e+00  1.01465364e-17\n",
            "  1.50000000e+00]\n",
            "eigenvectors:\n",
            "[[-2.58198890e-01 -1.98117093e-01 -1.61745175e-01  4.11598946e-01\n",
            "  -3.77964473e-01 -9.36840244e-02 -2.49203619e-01  3.17914922e-01\n",
            "   4.10948794e-01  3.83544169e-01 -1.85427076e-01  1.82574186e-01\n",
            "  -3.61518419e-02  3.67804640e-02  0.00000000e+00  0.00000000e+00\n",
            "   0.00000000e+00]\n",
            " [-2.58198890e-01 -1.22716465e-01 -3.16227766e-01  3.89367867e-01\n",
            "   3.16713902e-16  3.89367867e-01 -3.16227766e-01 -3.89367867e-01\n",
            "  -3.16227766e-01 -1.22716465e-01 -1.22716465e-01 -3.65148372e-01\n",
            "   7.23036837e-02 -7.35609281e-02  0.00000000e+00  0.00000000e+00\n",
            "   0.00000000e+00]\n",
            " [-2.58198890e-01 -4.15556789e-02 -4.02765823e-01  1.58081088e-01\n",
            "   3.77964473e-01  2.68648858e-01  2.84486447e-01  4.26729947e-01\n",
            "   1.18279375e-01 -3.09486753e-01  3.51042432e-01  1.82574186e-01\n",
            "  -3.61518419e-02  3.67804640e-02  0.00000000e+00  0.00000000e+00\n",
            "   0.00000000e+00]\n",
            " [-2.58198890e-01  4.15556789e-02 -4.02765823e-01 -1.58081088e-01\n",
            "   3.77964473e-01 -2.68648858e-01  2.84486447e-01 -4.26729947e-01\n",
            "   1.18279375e-01  3.09486753e-01 -3.51042432e-01  1.82574186e-01\n",
            "  -3.61518419e-02  3.67804640e-02  0.00000000e+00  0.00000000e+00\n",
            "   0.00000000e+00]\n",
            " [-2.58198890e-01  1.22716465e-01 -3.16227766e-01 -3.89367867e-01\n",
            "   3.41064782e-16 -3.89367867e-01 -3.16227766e-01  3.89367867e-01\n",
            "  -3.16227766e-01  1.22716465e-01  1.22716465e-01 -3.65148372e-01\n",
            "   7.23036837e-02 -7.35609281e-02  0.00000000e+00  0.00000000e+00\n",
            "   0.00000000e+00]\n",
            " [-2.58198890e-01  1.98117093e-01 -1.61745175e-01 -4.11598946e-01\n",
            "  -3.77964473e-01  9.36840244e-02 -2.49203619e-01 -3.17914922e-01\n",
            "   4.10948794e-01 -3.83544169e-01  1.85427076e-01  1.82574186e-01\n",
            "  -3.61518419e-02  3.67804640e-02  0.00000000e+00  0.00000000e+00\n",
            "   0.00000000e+00]\n",
            " [-2.58198890e-01  2.64218353e-01  2.74899008e-02 -2.12838226e-01\n",
            "  -3.77964473e-01  4.31465357e-01  3.44032435e-01  2.18627130e-01\n",
            "  -3.71522336e-01  1.08746285e-01 -3.72964638e-01  1.82574186e-01\n",
            "  -3.61518419e-02  3.67804640e-02  0.00000000e+00  0.00000000e+00\n",
            "   0.00000000e+00]\n",
            " [-3.16227766e-01  3.89367867e-01  2.58198890e-01  1.22716465e-01\n",
            "   4.04239522e-17  1.22716465e-01  2.58198890e-01 -1.22716465e-01\n",
            "   2.58198890e-01  3.89367867e-01  3.89367867e-01 -4.47213595e-01\n",
            "   8.85535658e-02 -9.00933694e-02  0.00000000e+00  0.00000000e+00\n",
            "   0.00000000e+00]\n",
            " [-2.58198890e-01  3.33575133e-01  2.68510548e-01  2.16367627e-01\n",
            "   1.88982237e-01 -1.81964384e-01 -1.89657631e-01  3.44032430e-02\n",
            "  -7.88529169e-02 -1.98266738e-01 -1.35308395e-01  1.82574186e-01\n",
            "   6.46447605e-01  8.56663150e-02  0.00000000e+00  0.00000000e+00\n",
            "   0.00000000e+00]\n",
            " [-2.58198890e-01  3.33575133e-01  2.68510548e-01  2.16367627e-01\n",
            "   1.88982237e-01 -1.81964384e-01 -1.89657631e-01  3.44032430e-02\n",
            "  -7.88529169e-02 -1.98266738e-01 -1.35308395e-01  1.82574186e-01\n",
            "  -7.18751289e-01 -1.21053870e-02  0.00000000e+00  0.00000000e+00\n",
            "   0.00000000e+00]\n",
            " [-2.58198890e-01 -2.64218353e-01  2.74899008e-02  2.12838226e-01\n",
            "  -3.77964473e-01 -4.31465357e-01  3.44032435e-01 -2.18627130e-01\n",
            "  -3.71522336e-01 -1.08746285e-01  3.72964638e-01  1.82574186e-01\n",
            "  -3.61518419e-02  3.67804640e-02  0.00000000e+00  0.00000000e+00\n",
            "   0.00000000e+00]\n",
            " [-3.16227766e-01 -3.89367867e-01  2.58198890e-01 -1.22716465e-01\n",
            "   6.87775743e-17 -1.22716465e-01  2.58198890e-01  1.22716465e-01\n",
            "   2.58198890e-01 -3.89367867e-01 -3.89367867e-01 -4.47213595e-01\n",
            "   8.85535658e-02 -9.00933694e-02  0.00000000e+00  0.00000000e+00\n",
            "   0.00000000e+00]\n",
            " [-2.58198890e-01 -3.33575133e-01  2.68510548e-01 -2.16367627e-01\n",
            "   1.88982237e-01  1.81964384e-01 -1.89657631e-01 -3.44032430e-02\n",
            "  -7.88529169e-02  1.98266738e-01  1.35308395e-01  1.82574186e-01\n",
            "  -1.56375215e-01 -6.54101679e-01  0.00000000e+00  0.00000000e+00\n",
            "   0.00000000e+00]\n",
            " [-2.58198890e-01 -3.33575133e-01  2.68510548e-01 -2.16367627e-01\n",
            "   1.88982237e-01  1.81964384e-01 -1.89657631e-01 -3.44032430e-02\n",
            "  -7.88529169e-02  1.98266738e-01  1.35308395e-01  1.82574186e-01\n",
            "   8.40715316e-02  7.27662607e-01  0.00000000e+00  0.00000000e+00\n",
            "   0.00000000e+00]\n",
            " [ 0.00000000e+00  0.00000000e+00  0.00000000e+00  0.00000000e+00\n",
            "   0.00000000e+00  0.00000000e+00  0.00000000e+00  0.00000000e+00\n",
            "   0.00000000e+00  0.00000000e+00  0.00000000e+00  0.00000000e+00\n",
            "   0.00000000e+00  0.00000000e+00  8.16496581e-01 -5.77350269e-01\n",
            "   1.11307840e-01]\n",
            " [ 0.00000000e+00  0.00000000e+00  0.00000000e+00  0.00000000e+00\n",
            "   0.00000000e+00  0.00000000e+00  0.00000000e+00  0.00000000e+00\n",
            "   0.00000000e+00  0.00000000e+00  0.00000000e+00  0.00000000e+00\n",
            "   0.00000000e+00  0.00000000e+00 -4.08248290e-01 -5.77350269e-01\n",
            "  -7.56159397e-01]\n",
            " [ 0.00000000e+00  0.00000000e+00  0.00000000e+00  0.00000000e+00\n",
            "   0.00000000e+00  0.00000000e+00  0.00000000e+00  0.00000000e+00\n",
            "   0.00000000e+00  0.00000000e+00  0.00000000e+00  0.00000000e+00\n",
            "   0.00000000e+00  0.00000000e+00 -4.08248290e-01 -5.77350269e-01\n",
            "   6.44851557e-01]]\n",
            "Spectral Embeddings\n",
            "[[-2.58198890e-01 -2.58198890e-01]\n",
            " [-1.22716465e-01 -4.15556789e-02]\n",
            " [-3.16227766e-01 -4.02765823e-01]\n",
            " [ 3.89367867e-01  1.58081088e-01]\n",
            " [ 3.16713902e-16  3.77964473e-01]\n",
            " [ 3.89367867e-01  2.68648858e-01]\n",
            " [-3.16227766e-01  2.84486447e-01]\n",
            " [-3.89367867e-01  4.26729947e-01]\n",
            " [-3.16227766e-01  1.18279375e-01]\n",
            " [-1.22716465e-01 -3.09486753e-01]\n",
            " [-1.22716465e-01  3.51042432e-01]\n",
            " [-3.65148372e-01  1.82574186e-01]\n",
            " [ 7.23036837e-02 -3.61518419e-02]\n",
            " [-7.35609281e-02  3.67804640e-02]\n",
            " [ 0.00000000e+00  0.00000000e+00]\n",
            " [ 0.00000000e+00  0.00000000e+00]\n",
            " [ 0.00000000e+00  0.00000000e+00]]\n"
          ]
        }
      ],
      "source": [
        "#calculates eigenvalue and eigenvector of our laplacian\n",
        "e, v = np.linalg.eig(NormL)\n",
        "#eigenvalues\n",
        "print('eigenvalues:')\n",
        "print(e)\n",
        "#eigenvectors\n",
        "print('eigenvectors:')\n",
        "print(v)\n",
        "\n",
        "#takes the two lowest non-zero eigenvalues\n",
        "test = v[1:3]\n",
        "\n",
        "#Creates a matrix which has the corresponding eigenvectors as columns, saves each row or spectral embedding as a separate array.\n",
        "#test1 is the variable that holds the spectral embeddings\n",
        "test1 = np.zeros((v[0].shape[0],2))\n",
        "for count, entry in enumerate(test[0]):\n",
        "    test1[count][0] = test[0][count]\n",
        "    test1[count][1] = test[1][count]\n",
        "\n",
        "print(\"Spectral Embeddings\")\n",
        "print(test1)\n"
      ]
    },
    {
      "cell_type": "markdown",
      "id": "0b3fa5fd",
      "metadata": {
        "id": "0b3fa5fd"
      },
      "source": [
        "## Initial Centroids\n",
        "\n",
        "The code section below shows a function used to create 2 random initial centroids from a dataset. The initial centroids are chosen at random from existing datapoints so the initial centroids will always be on top of a datapoint. The amount of initial centroids can be modified by changing the number 2 in the line \"toReturn = np.zeros([2, data.shape[1]])\" and changing the number 2 in line \"for counter in range(2):\""
      ]
    },
    {
      "cell_type": "code",
      "execution_count": null,
      "id": "8ed27041",
      "metadata": {
        "id": "8ed27041"
      },
      "outputs": [],
      "source": [
        "#randomly initialize 2 centroids from data set\n",
        "def initialize_centroids(data):\n",
        "    toReturn = np.zeros([2, data.shape[1]])\n",
        "    for counter in range(2):\n",
        "        randNum = random.randint(0,data.shape[0]-1)\n",
        "        toReturn[counter] = data[randNum]\n",
        "    return toReturn"
      ]
    },
    {
      "cell_type": "markdown",
      "id": "9093c6b1",
      "metadata": {
        "id": "9093c6b1"
      },
      "source": [
        "## Cluster Assignments\n",
        "\n",
        "The code section below contains all of the functions necessary for my implementation of updating the cluster assignments. The first function calcErr(a,b) calculates the root of the sum of squared errors between two points of data. The second function assignCengtroid(centroids, data) takes as input a list of all centroids and a point of data and returns the closest centroid along with the amount of error between the datapoint and centroid. The third function allAssignCentroid takes as input a list of centroids and a dataset, and returns a list of all datapoints and their corresponding cluster along with the amount of error."
      ]
    },
    {
      "cell_type": "code",
      "execution_count": null,
      "id": "b5e7428f",
      "metadata": {
        "id": "b5e7428f"
      },
      "outputs": [],
      "source": [
        "\n",
        "\n",
        "#calculates the root of the sum of squared errors\n",
        "def calcErr(a,b):\n",
        "    error = 0\n",
        "    for x in range(a.shape[0]):\n",
        "        error += (a[x]-b[x])**2\n",
        "    error = math.sqrt(error)\n",
        "    return error\n",
        "\n",
        "#given a list of all centroids and a point of data, return the closest centroid and amount of err\n",
        "def assignCentroid(centroids, data):\n",
        "    errors = list()\n",
        "    for centroid in range(centroids.shape[0]):\n",
        "        error = calcErr(centroids[centroid], data)\n",
        "        errors.append((error,centroid))\n",
        "    errors.sort()\n",
        "    return errors[0]\n",
        "\n",
        "#Given centroids and dataset, returns a list of all datapoints, error and cluster assignment in the form of list((error, clusterAssignment), (error, clusterAssignment), ...)\n",
        "def allAssignCentroid(centroids, data):\n",
        "    toReturn = list()\n",
        "    temp = list()\n",
        "    for entry in data:\n",
        "        temp = assignCentroid(centroids, entry)\n",
        "        toReturn.append(temp)\n",
        "    return toReturn"
      ]
    },
    {
      "cell_type": "markdown",
      "id": "068195be",
      "metadata": {
        "id": "068195be"
      },
      "source": [
        "## Centroid Location Updates\n",
        "\n",
        "The functions below are responsible for updating the centroid location. The function updateCentroid takes as input a list of centroids, a dataset, and a list of assignments that are generated from the function allAssignCentroid(centroids, data). The function then takes all the clusters/datapoints that are assigned to a centroid and calculates the mean value and updates the centroid location accordingly. This function does this for all centroids inputted. The function then returns the updated centroid locations.\n"
      ]
    },
    {
      "cell_type": "code",
      "execution_count": null,
      "id": "efabd036",
      "metadata": {
        "id": "efabd036"
      },
      "outputs": [],
      "source": [
        "\n",
        "#This function returns an array of updated centroids whose positions are calculated based on cluster assignments and datapoints\n",
        "#centroids is list of centroids, data is dataset, assignments is list of assignments based on assignCentroid. Returns updated centroid\n",
        "def updateCentroid(centroids, data, assignments):\n",
        "    #variable to hold new centroid locations\n",
        "    newCentroids = []\n",
        "    hold = [[] for x in range(centroids.shape[0])]\n",
        "    #for loop taking all the datapoints that belong to a centroid and puts into variable hold.\n",
        "    for x in range(len(assignments)):\n",
        "        hold[assignments[x][1]].append(x)\n",
        "    #for loop calculating the new centroid locations by taking the mean value. If a centroid has no datapoints assigned to it, it just stays in the same location\n",
        "    for x in range(len(hold)):\n",
        "        if len(hold[x]) > 0:\n",
        "            c_k = np.mean(data[hold[x]],axis=0)\n",
        "        else :\n",
        "            c_k = centroids[x]\n",
        "        newCentroids.append(c_k)\n",
        "    return newCentroids\n"
      ]
    },
    {
      "cell_type": "markdown",
      "id": "5ca773ce",
      "metadata": {
        "id": "5ca773ce"
      },
      "source": [
        "## Kmeans\n",
        "\n",
        "The section below shows my function myKmeans(data, iterations) which uses all the functions displayed above to implement k-means clustering. My function takes as input a dataset and number of iterations you want k-means to last for, and returns the final centroid locations and cluster assignments. My implementation also has it so that if the objective function stays the same or increases, the function will return. I will output a scatterplot displaying the centroid location and cluster assignments for when numer of iterations is set to 3. Please note that 1 iteration count as both updating cluster assignments and centroid locations.\n",
        "\n",
        "Please note that I put in scatterplots and print statements in my kmeans function solely for the purpose of displaying my results in jupyter notebook. For my complete implementation, I will take out these print() commands."
      ]
    },
    {
      "cell_type": "code",
      "execution_count": null,
      "id": "26a78d58",
      "metadata": {
        "id": "26a78d58",
        "outputId": "1e3af58b-fbf1-4b8a-d1f9-1ccfd8d257b0"
      },
      "outputs": [
        {
          "data": {
            "image/png": "[encoded data removed]",
            "text/plain": [
              "<Figure size 640x480 with 1 Axes>"
            ]
          },
          "metadata": {},
          "output_type": "display_data"
        },
        {
          "data": {
            "image/png": "[encoded data removed]",
            "text/plain": [
              "<Figure size 640x480 with 1 Axes>"
            ]
          },
          "metadata": {},
          "output_type": "display_data"
        },
        {
          "data": {
            "image/png": "[encoded data removed]",
            "text/plain": [
              "<Figure size 640x480 with 1 Axes>"
            ]
          },
          "metadata": {},
          "output_type": "display_data"
        }
      ],
      "source": [
        "\n",
        "#Kmeans function, given dataset and # of iterations, returns centroids and cluster assignments. Exits if objective function increases or stays the same\n",
        "def myKmeans(data, iterations):\n",
        "    centroids = initialize_centroids(data)\n",
        "    updatedAssignments = allAssignCentroid(centroids,data)\n",
        "    currErr = 0\n",
        "    outputErr = 0\n",
        "    oldCentroids = centroids\n",
        "    #firstCheck is a variable used to skip the first time of checking objective function since oldErr and currErr is the same initially\n",
        "    firstCheck = 0\n",
        "    for y in range(len(updatedAssignments)):\n",
        "            currErr += updatedAssignments[y][0]\n",
        "    for x in range(iterations):\n",
        "\n",
        "        #updating assignments\n",
        "        oldAssignments = updatedAssignments\n",
        "        updatedAssignments = allAssignCentroid(centroids,data)\n",
        "        #Displaying scatterplot graph\n",
        "        silh = []\n",
        "        for iterator in range(len(updatedAssignments)):\n",
        "            silh.append(updatedAssignments[iterator][1])\n",
        "        col = [0,1]\n",
        "        plt.scatter(data[:,0],data[:,1], c=silh, marker='o')\n",
        "        plt.scatter(centroids[:,0], centroids[:,1], c=col, marker='x')\n",
        "        plt.show()\n",
        "\n",
        "        #checking if error decreased\n",
        "        oldErr = currErr\n",
        "        currErr = 0\n",
        "        for y in range(len(updatedAssignments)):\n",
        "            currErr += updatedAssignments[y][0]\n",
        "        if oldErr <= currErr :\n",
        "            if firstCheck == 1:\n",
        "                return oldCentroids, oldAssignments\n",
        "            firstCheck = 1\n",
        "        #updating centroids\n",
        "        oldCentroids = centroids\n",
        "        centroids = np.array(updateCentroid(centroids, data, updatedAssignments))\n",
        "\n",
        "\n",
        "\n",
        "\n",
        "    updatedAssignments = allAssignCentroid(centroids,data)\n",
        "    return centroids, updatedAssignments\n",
        "\n",
        "\n",
        "\n",
        "temp = myKmeans(test1, 3)"
      ]
    },
    {
      "cell_type": "markdown",
      "id": "4b500061",
      "metadata": {
        "id": "4b500061"
      },
      "source": [
        "## Final Results and Evaluation\n",
        "\n",
        "The section below shows a matrix with the final centroid locations and cluster assignments as well as a scatterplot displaying this information when my implementation is run for 10 iterations on the implementation_correctness_dataset.csv. I have also displayed my Silhouette Score and Normalized Mutual Information Score.\n"
      ]
    },
    {
      "cell_type": "code",
      "execution_count": null,
      "id": "b8399f52",
      "metadata": {
        "id": "b8399f52",
        "outputId": "2aa5771a-c633-49c7-e772-ed0284978427"
      },
      "outputs": [
        {
          "name": "stdout",
          "output_type": "stream",
          "text": [
            "Final Centroid Locations\n",
            "[[-0.00385283 -0.05314987]\n",
            " [-0.25161471  0.29017948]]\n",
            "Final Cluster Assignments\n",
            "[(0.3267063206866945, 0), (0.11942775955282743, 0), (0.468838369325528, 0), (0.4463642369447327, 0), (0.2664885848527406, 1), (0.5081111453610809, 0), (0.06486338036516379, 1), (0.1939638219378211, 1), (0.18364229447400293, 1), (0.28255470551054, 0), (0.14254492550323286, 1), (0.1564250358619785, 1), (0.07803042414392189, 0), (0.11378349805479342, 0), (0.0532893329502437, 0), (0.0532893329502437, 0), (0.0532893329502437, 0)]\n"
          ]
        },
        {
          "data": {
            "image/png": "[encoded data removed]",
            "text/plain": [
              "<Figure size 640x480 with 1 Axes>"
            ]
          },
          "metadata": {},
          "output_type": "display_data"
        },
        {
          "name": "stdout",
          "output_type": "stream",
          "text": [
            "Silhouette Score\n",
            "0.38481057655498\n",
            "NMI\n",
            "0.15575634360678023\n"
          ]
        }
      ],
      "source": [
        "\n",
        "#Reprint of my kmeans implementation except without all the scatterplot graphs displaying the process in the middle\n",
        "def myKmeans(data, iterations):\n",
        "    centroids = initialize_centroids(data)\n",
        "    updatedAssignments = allAssignCentroid(centroids,data)\n",
        "    currErr = 0\n",
        "    outputErr = 0\n",
        "    oldCentroids = centroids\n",
        "    #firstCheck is a variable used to skip the first time of checking objective function since oldErr and currErr is the same initially\n",
        "    firstCheck = 0\n",
        "    for y in range(len(updatedAssignments)):\n",
        "            currErr += updatedAssignments[y][0]\n",
        "    for x in range(iterations):\n",
        "\n",
        "        #updating assignments\n",
        "        oldAssignments = updatedAssignments\n",
        "        updatedAssignments = allAssignCentroid(centroids,data)\n",
        "        #checking if error decreased\n",
        "        oldErr = currErr\n",
        "        currErr = 0\n",
        "        for y in range(len(updatedAssignments)):\n",
        "            currErr += updatedAssignments[y][0]\n",
        "        if oldErr <= currErr :\n",
        "            if firstCheck == 1:\n",
        "                return oldCentroids, oldAssignments\n",
        "            firstCheck = 1\n",
        "        #updating centroids\n",
        "        oldCentroids = centroids\n",
        "        centroids = np.array(updateCentroid(centroids, data, updatedAssignments))\n",
        "    updatedAssignments = allAssignCentroid(centroids,data)\n",
        "    return centroids, updatedAssignments\n",
        "\n",
        "\n",
        "#Runs kmeans\n",
        "x,y = myKmeans(test1, 10)\n",
        "print(\"Final Centroid Locations\")\n",
        "print(x)\n",
        "print(\"Final Cluster Assignments\")\n",
        "print(y)\n",
        "\n",
        "#Display Scatterplot\n",
        "silh = []\n",
        "for iterator in range(len(y)):\n",
        "    silh.append(y[iterator][1])\n",
        "col = [0,1]\n",
        "plt.scatter(test1[:,0],test1[:,1], c=silh, marker='o')\n",
        "plt.scatter(x[:,0], x[:,1], c=col, marker='x')\n",
        "plt.show()\n",
        "\n",
        "#print Silhouette score and NMI\n",
        "print(\"Silhouette Score\")\n",
        "print(silhouette_score(test1, silh))\n",
        "print(\"NMI\")\n",
        "nmi = normalized_mutual_info_score (groundtruth, silh)\n",
        "print(nmi)"
      ]
    }
  ],
  "metadata": {
    "kernelspec": {
      "display_name": "Python 3 (ipykernel)",
      "language": "python",
      "name": "python3"
    },
    "language_info": {
      "codemirror_mode": {
        "name": "ipython",
        "version": 3
      },
      "file_extension": ".py",
      "mimetype": "text/x-python",
      "name": "python",
      "nbconvert_exporter": "python",
      "pygments_lexer": "ipython3",
      "version": "3.10.8"
    },
    "colab": {
      "provenance": [],
      "include_colab_link": true
    }
  },
  "nbformat": 4,
  "nbformat_minor": 5
}